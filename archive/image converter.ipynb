{
 "cells": [
  {
   "cell_type": "code",
   "execution_count": 3,
   "id": "e0d02bd5",
   "metadata": {},
   "outputs": [
    {
     "name": "stdout",
     "output_type": "stream",
     "text": [
      "경고: 조정된 높이(120.0px)가 권장 범위(40~60px)를 벗어납니다.\n",
      "PNG 파일이 저장되었습니다: /Users/a/Desktop/Work/Blog/2024 Adsense/Images/기도하는손-투명-1-mobile.png\n",
      "이미지 크기: 240x240px (화면에 표시될 때는 120.0x120.0px)\n"
     ]
    }
   ],
   "source": [
    "#이미지를 최적화된 모바일 로고 크기로 변환하는 Python 코드\n",
    "from PIL import Image\n",
    "import os\n",
    "import cairosvg\n",
    "\n",
    "def resize_logo_for_mobile(input_path, output_dir=None, format='png', width=240):\n",
    "    \"\"\"\n",
    "    워드프레스 아스트라 테마에 적합한 모바일 로고로 이미지 크기 조정\n",
    "    \n",
    "    매개변수:\n",
    "    - input_path: 원본 이미지 경로\n",
    "    - output_dir: 출력 디렉토리 (기본값은 원본 파일과 동일한 위치)\n",
    "    - format: 출력 형식 ('png' 또는 'svg')\n",
    "    - width: 출력 이미지 너비 (기본값 240px - 레티나 디스플레이용)\n",
    "    \"\"\"\n",
    "    try:\n",
    "        # 원본 이미지 열기\n",
    "        img = Image.open(input_path)\n",
    "        \n",
    "        # 종횡비 유지하면서 크기 조정\n",
    "        aspect_ratio = img.width / img.height\n",
    "        new_width = width  # 레티나 디스플레이용 240px (실제 표시는 120px)\n",
    "        new_height = int(new_width / aspect_ratio)\n",
    "        \n",
    "        # 높이가 권장 범위(40~60px의 2배)에 있는지 확인\n",
    "        if new_height < 80 or new_height > 120:\n",
    "            print(f\"경고: 조정된 높이({new_height/2}px)가 권장 범위(40~60px)를 벗어납니다.\")\n",
    "        \n",
    "        # 이미지 크기 조정\n",
    "        resized_img = img.resize((new_width, new_height), Image.LANCZOS)\n",
    "        \n",
    "        # 출력 디렉토리 설정\n",
    "        if output_dir is None:\n",
    "            output_dir = os.path.dirname(input_path)\n",
    "            \n",
    "        # 파일 이름 생성\n",
    "        file_name = os.path.basename(input_path)\n",
    "        name_without_ext = os.path.splitext(file_name)[0]\n",
    "        \n",
    "        if format.lower() == 'png':\n",
    "            # PNG로 저장\n",
    "            output_path = os.path.join(output_dir, f\"{name_without_ext}-mobile.png\")\n",
    "            resized_img = resized_img.convert(\"RGBA\")  # 투명도 유지\n",
    "            resized_img.save(output_path, \"PNG\", optimize=True)\n",
    "            print(f\"PNG 파일이 저장되었습니다: {output_path}\")\n",
    "            print(f\"이미지 크기: {new_width}x{new_height}px (화면에 표시될 때는 {new_width/2}x{new_height/2}px)\")\n",
    "            return output_path\n",
    "            \n",
    "        elif format.lower() == 'svg':\n",
    "            # SVG로 저장 (이 경우 PNG를 먼저 저장한 후 SVG로 변환)\n",
    "            temp_png_path = os.path.join(output_dir, f\"{name_without_ext}-temp.png\")\n",
    "            output_path = os.path.join(output_dir, f\"{name_without_ext}-mobile.svg\")\n",
    "            \n",
    "            resized_img = resized_img.convert(\"RGBA\")  # 투명도 유지\n",
    "            resized_img.save(temp_png_path, \"PNG\")\n",
    "            \n",
    "            # PNG를 SVG로 변환 (cairosvg 사용)\n",
    "            cairosvg.svg2png(url=temp_png_path, write_to=output_path)\n",
    "            \n",
    "            # 임시 파일 삭제\n",
    "            os.remove(temp_png_path)\n",
    "            \n",
    "            print(f\"SVG 파일이 저장되었습니다: {output_path}\")\n",
    "            print(f\"이미지 크기: {new_width}x{new_height}px (화면에 표시될 때는 {new_width/2}x{new_height/2}px)\")\n",
    "            return output_path\n",
    "        \n",
    "        else:\n",
    "            print(\"지원되지 않는 형식입니다. 'png' 또는 'svg'를 선택하세요.\")\n",
    "            return None\n",
    "            \n",
    "    except Exception as e:\n",
    "        print(f\"오류 발생: {e}\")\n",
    "        return None\n",
    "\n",
    "# 예제 사용법\n",
    "if __name__ == \"__main__\":\n",
    "    # 입력 파일 경로\n",
    "    input_file = \"/Users/a/Desktop/Work/Blog/2024 Adsense/Images/기도하는손-투명-1.png\"\n",
    "    \n",
    "    # PNG 형식으로 변환\n",
    "    resize_logo_for_mobile(input_file, format='png', width=240)\n",
    "    \n",
    "    # SVG 형식으로도 변환하려면 아래 주석 해제\n",
    "    # resize_logo_for_mobile(input_file, format='svg', width=240)"
   ]
  },
  {
   "cell_type": "code",
   "execution_count": 2,
   "id": "096cbcf6",
   "metadata": {},
   "outputs": [
    {
     "name": "stdout",
     "output_type": "stream",
     "text": [
      "Requirement already satisfied: Pillow in /Users/a/opt/anaconda3/lib/python3.8/site-packages (10.2.0)\n",
      "Collecting cairosvg\n",
      "  Downloading CairoSVG-2.7.1-py3-none-any.whl.metadata (2.7 kB)\n",
      "Collecting cairocffi (from cairosvg)\n",
      "  Downloading cairocffi-1.7.1-py3-none-any.whl.metadata (3.3 kB)\n",
      "Collecting cssselect2 (from cairosvg)\n",
      "  Downloading cssselect2-0.7.0-py3-none-any.whl.metadata (2.9 kB)\n",
      "Requirement already satisfied: defusedxml in /Users/a/opt/anaconda3/lib/python3.8/site-packages (from cairosvg) (0.7.1)\n",
      "Collecting tinycss2 (from cairosvg)\n",
      "  Downloading tinycss2-1.4.0-py3-none-any.whl.metadata (3.0 kB)\n",
      "Requirement already satisfied: cffi>=1.1.0 in /Users/a/opt/anaconda3/lib/python3.8/site-packages (from cairocffi->cairosvg) (1.14.5)\n",
      "Requirement already satisfied: webencodings in /Users/a/opt/anaconda3/lib/python3.8/site-packages (from cssselect2->cairosvg) (0.5.1)\n",
      "Requirement already satisfied: pycparser in /Users/a/opt/anaconda3/lib/python3.8/site-packages (from cffi>=1.1.0->cairocffi->cairosvg) (2.20)\n",
      "Downloading CairoSVG-2.7.1-py3-none-any.whl (43 kB)\n",
      "Downloading cairocffi-1.7.1-py3-none-any.whl (75 kB)\n",
      "Downloading cssselect2-0.7.0-py3-none-any.whl (15 kB)\n",
      "Downloading tinycss2-1.4.0-py3-none-any.whl (26 kB)\n",
      "Installing collected packages: tinycss2, cssselect2, cairocffi, cairosvg\n",
      "Successfully installed cairocffi-1.7.1 cairosvg-2.7.1 cssselect2-0.7.0 tinycss2-1.4.0\n",
      "\n",
      "\u001b[1m[\u001b[0m\u001b[34;49mnotice\u001b[0m\u001b[1;39;49m]\u001b[0m\u001b[39;49m A new release of pip is available: \u001b[0m\u001b[31;49m24.2\u001b[0m\u001b[39;49m -> \u001b[0m\u001b[32;49m25.0.1\u001b[0m\n",
      "\u001b[1m[\u001b[0m\u001b[34;49mnotice\u001b[0m\u001b[1;39;49m]\u001b[0m\u001b[39;49m To update, run: \u001b[0m\u001b[32;49mpip install --upgrade pip\u001b[0m\n",
      "Note: you may need to restart the kernel to use updated packages.\n"
     ]
    }
   ],
   "source": [
    "pip install Pillow cairosvg"
   ]
  }
 ],
 "metadata": {
  "kernelspec": {
   "display_name": "Python 3",
   "language": "python",
   "name": "python3"
  },
  "language_info": {
   "codemirror_mode": {
    "name": "ipython",
    "version": 3
   },
   "file_extension": ".py",
   "mimetype": "text/x-python",
   "name": "python",
   "nbconvert_exporter": "python",
   "pygments_lexer": "ipython3",
   "version": "3.8.8"
  }
 },
 "nbformat": 4,
 "nbformat_minor": 5
}
